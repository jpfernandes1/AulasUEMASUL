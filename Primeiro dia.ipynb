{
 "cells": [
  {
   "cell_type": "markdown",
   "id": "4dfd342c",
   "metadata": {},
   "source": [
    "# Mini curso Python "
   ]
  },
  {
   "cell_type": "markdown",
   "id": "acb51f37",
   "metadata": {},
   "source": [
    "João Paulo\n",
    "\n",
    "Contatos\n",
    "\n",
    "[Linkedin](https://www.linkedin.com/in/joão-paulo-fernandes/) | [Github](https://github.com/jpfernandes1)"
   ]
  },
  {
   "cell_type": "markdown",
   "id": "ed86ede2",
   "metadata": {},
   "source": [
    "Lançada no começo dos anos 1990, a Python é uma linguagem de programação de alto nível.  Desenvolvida pelo matemático holandês Guido van Rossum, acabou se tornando popular por suportar tanto a programação orientada a objetos, quanto a programação estruturada.\n",
    "\n",
    "A adoção da tecnologia nos códigos de gigantes como Instagram, Netflix, Spotify, Reddit, Facebook e Google é um poderoso incentivo para a linguagem.\n",
    "\n",
    "Outra vantagem de aprender Python é a sua versatilidade, que roda tranquilamente nos principais SO's: Windows, MacOs, distribuições Linux."
   ]
  },
  {
   "cell_type": "markdown",
   "id": "3810d1b1",
   "metadata": {},
   "source": [
    "### O que pode ser feito em Python?"
   ]
  },
  {
   "cell_type": "markdown",
   "id": "5edb22a8",
   "metadata": {},
   "source": [
    "* Python e a ciência/análise de dados\n",
    "* Machine learning e inteligência artificial\n",
    "* Desenvolvimento Web"
   ]
  },
  {
   "cell_type": "markdown",
   "id": "73b9b340",
   "metadata": {},
   "source": [
    "## Primeiro Dia\n",
    "\n",
    "* Tipos de Dados\n",
    "* Estruturas de Decisão\n",
    "* Estruturas de Repetição\n",
    "* Listas\n",
    "* Tuplas\n",
    "* Dicionários"
   ]
  },
  {
   "cell_type": "markdown",
   "id": "0e4f8d36",
   "metadata": {},
   "source": [
    "## Instalando o Python na máquina"
   ]
  },
  {
   "cell_type": "markdown",
   "id": "7d345b86",
   "metadata": {},
   "source": [
    "Entre no link: [Baixar Python](https://www.python.org)"
   ]
  },
  {
   "cell_type": "markdown",
   "id": "70575e76",
   "metadata": {},
   "source": [
    "## Primeiro Código"
   ]
  },
  {
   "cell_type": "markdown",
   "id": "758d9e73",
   "metadata": {},
   "source": [
    "###  Função print()"
   ]
  },
  {
   "cell_type": "code",
   "execution_count": null,
   "id": "f55ae13a",
   "metadata": {},
   "outputs": [],
   "source": [
    "print('Hello World!')"
   ]
  },
  {
   "cell_type": "markdown",
   "id": "a319b7a0",
   "metadata": {},
   "source": [
    "### Variáveis"
   ]
  },
  {
   "cell_type": "markdown",
   "id": "90bd69b1",
   "metadata": {},
   "source": [
    "Variáveis não podem:\n",
    "\n",
    "* Iniciar com um número ou símbolo (5 ou %, por exemplo), mas sim com uma letra minúscula ou underline.\n",
    "* Ser  palavras que já fazem parte da linguagem Python. Ex.: True, False, print, etc."
   ]
  },
  {
   "cell_type": "markdown",
   "id": "5c963546",
   "metadata": {},
   "source": [
    "### Tipos de Dados"
   ]
  },
  {
   "cell_type": "markdown",
   "id": "e79ff807",
   "metadata": {},
   "source": [
    "* String (caracteres)\n",
    "* Integer (inteiros)\n",
    "* Float (com casas decimais)\n",
    "* Booleana (lógico)"
   ]
  },
  {
   "cell_type": "markdown",
   "id": "0493c32e",
   "metadata": {},
   "source": [
    "####  Como atribuir valores a variáveis?"
   ]
  },
  {
   "cell_type": "code",
   "execution_count": null,
   "id": "1d0c2ad4",
   "metadata": {},
   "outputs": [],
   "source": [
    "#Criar variável do tipo inteiro\n"
   ]
  },
  {
   "cell_type": "code",
   "execution_count": null,
   "id": "c90ca6d6",
   "metadata": {},
   "outputs": [],
   "source": [
    "#Criar variável do tipo float\n"
   ]
  },
  {
   "cell_type": "code",
   "execution_count": null,
   "id": "3eba64a9",
   "metadata": {},
   "outputs": [],
   "source": [
    "#Criar variável do tipo string (aspas simples ou duplas)\n"
   ]
  },
  {
   "cell_type": "code",
   "execution_count": null,
   "id": "c713ddb9",
   "metadata": {},
   "outputs": [],
   "source": [
    "#Criar variável do tipo lógica (= True, = False)\n"
   ]
  },
  {
   "cell_type": "code",
   "execution_count": null,
   "id": "4cb34602",
   "metadata": {},
   "outputs": [],
   "source": [
    "# Verificar tipo (type(x))\n"
   ]
  },
  {
   "cell_type": "code",
   "execution_count": null,
   "id": "eebe0f6d",
   "metadata": {},
   "outputs": [],
   "source": [
    "# Exibir dados no console com o print()\n"
   ]
  },
  {
   "cell_type": "code",
   "execution_count": null,
   "id": "93456ff8",
   "metadata": {},
   "outputs": [],
   "source": [
    "# Entrada de valores com input\n"
   ]
  },
  {
   "cell_type": "code",
   "execution_count": null,
   "id": "41d12881",
   "metadata": {},
   "outputs": [],
   "source": [
    "# Conversões de dados\n"
   ]
  },
  {
   "cell_type": "markdown",
   "id": "ca2e7be9",
   "metadata": {},
   "source": [
    "### Operações com dados"
   ]
  },
  {
   "cell_type": "code",
   "execution_count": null,
   "id": "1de4530d",
   "metadata": {},
   "outputs": [],
   "source": [
    "# Adição\n"
   ]
  },
  {
   "cell_type": "code",
   "execution_count": null,
   "id": "02fc04db",
   "metadata": {},
   "outputs": [],
   "source": [
    "# Subtração"
   ]
  },
  {
   "cell_type": "code",
   "execution_count": null,
   "id": "42e01f00",
   "metadata": {},
   "outputs": [],
   "source": [
    "# Multiplicação"
   ]
  },
  {
   "cell_type": "code",
   "execution_count": null,
   "id": "5b7ddc01",
   "metadata": {},
   "outputs": [],
   "source": [
    "#Divisão"
   ]
  },
  {
   "cell_type": "code",
   "execution_count": null,
   "id": "95bc8021",
   "metadata": {},
   "outputs": [],
   "source": [
    "# Potência"
   ]
  },
  {
   "cell_type": "code",
   "execution_count": null,
   "id": "379a0524",
   "metadata": {},
   "outputs": [],
   "source": [
    "# Raiz\n",
    "(x ** (1/2))"
   ]
  },
  {
   "cell_type": "code",
   "execution_count": null,
   "id": "02def97e",
   "metadata": {},
   "outputs": [],
   "source": [
    "import math\n",
    "math.sqrt()"
   ]
  },
  {
   "cell_type": "code",
   "execution_count": null,
   "id": "b57c42d5",
   "metadata": {},
   "outputs": [],
   "source": [
    "# Módulo '%'\n"
   ]
  },
  {
   "cell_type": "code",
   "execution_count": null,
   "id": "29496714",
   "metadata": {},
   "outputs": [],
   "source": [
    "# Se os numeros estiverem em formato de String, precisam ser convertidos:\n",
    "x = '2'\n",
    "y= '6'\n",
    "\n",
    "x+y"
   ]
  },
  {
   "cell_type": "markdown",
   "id": "36daffd3",
   "metadata": {},
   "source": [
    "### Estruturas de decisão"
   ]
  },
  {
   "cell_type": "code",
   "execution_count": null,
   "id": "0db8fabb",
   "metadata": {},
   "outputs": [],
   "source": [
    "nota = 6\n",
    "if nota > 7:\n",
    "\tprint('Aluno aprovado')\n",
    "else:\n",
    "\tprint('Aluno reprovado')"
   ]
  },
  {
   "cell_type": "code",
   "execution_count": null,
   "id": "ef6f1da8",
   "metadata": {},
   "outputs": [],
   "source": [
    "nota = 7\n",
    "if nota <= 4:\n",
    "    print(\"Reprovado\")\n",
    "elif nota > 4 and nota <=6:\n",
    "    print(\"Exame\")\n",
    "else:\n",
    "    print(\"Aprovado\")"
   ]
  },
  {
   "cell_type": "code",
   "execution_count": null,
   "id": "9f59dd53",
   "metadata": {},
   "outputs": [],
   "source": []
  },
  {
   "cell_type": "markdown",
   "id": "efb3494a",
   "metadata": {},
   "source": [
    "###  Estruturas de repetição"
   ]
  },
  {
   "cell_type": "code",
   "execution_count": null,
   "id": "92900c4e",
   "metadata": {},
   "outputs": [],
   "source": [
    "# Função range\n",
    "#range(0, 10, 1):\n",
    "#range(inicio, parada, incremento)\n",
    "#o python \"igonora\" o ultimo valor de intervalos\n",
    "#O incremento pode ser negativo"
   ]
  },
  {
   "cell_type": "markdown",
   "id": "883ead75",
   "metadata": {},
   "source": [
    "### For "
   ]
  },
  {
   "cell_type": "code",
   "execution_count": null,
   "id": "8d72e387",
   "metadata": {},
   "outputs": [],
   "source": [
    "#Crescente\n",
    "for n in range(0, 10):\n",
    "    print(n+1)"
   ]
  },
  {
   "cell_type": "code",
   "execution_count": null,
   "id": "707cca32",
   "metadata": {},
   "outputs": [],
   "source": [
    "#Descrescente"
   ]
  },
  {
   "cell_type": "markdown",
   "id": "5761ad84",
   "metadata": {},
   "source": [
    "### While"
   ]
  },
  {
   "cell_type": "code",
   "execution_count": null,
   "id": "c06ff155",
   "metadata": {},
   "outputs": [],
   "source": [
    "count = 1\n",
    "while count <= 5:\n",
    "    print(count)\n",
    "    count += 1"
   ]
  },
  {
   "cell_type": "markdown",
   "id": "f83f5ab6",
   "metadata": {},
   "source": [
    "### Importando bibliotecas"
   ]
  },
  {
   "cell_type": "markdown",
   "id": "a2a05e22",
   "metadata": {},
   "source": [
    "#### Como criar uma lista com uma sequencia de numeros?"
   ]
  },
  {
   "cell_type": "code",
   "execution_count": null,
   "id": "9d424ee7",
   "metadata": {},
   "outputs": [],
   "source": [
    "import numpy as np\n",
    "np.arange(1,10)"
   ]
  },
  {
   "cell_type": "markdown",
   "id": "04901f61",
   "metadata": {},
   "source": [
    "## Listas"
   ]
  },
  {
   "cell_type": "markdown",
   "id": "3560ec22",
   "metadata": {},
   "source": [
    "São coleções de dados de um ou diversos tipos:"
   ]
  },
  {
   "cell_type": "code",
   "execution_count": null,
   "id": "762badf4",
   "metadata": {},
   "outputs": [],
   "source": [
    "#Criando lista\n",
    "lst = [1,2,3,4,5]"
   ]
  },
  {
   "cell_type": "code",
   "execution_count": null,
   "id": "27c32eee",
   "metadata": {},
   "outputs": [],
   "source": [
    "#vários tipos\n",
    "lst2 = [1,2,3,\"4\",True]"
   ]
  },
  {
   "cell_type": "code",
   "execution_count": null,
   "id": "e928d71e",
   "metadata": {},
   "outputs": [],
   "source": [
    "#lista com lista\n",
    "lst3 = [12,[1,2,3,4,5],\"a\"]"
   ]
  },
  {
   "cell_type": "code",
   "execution_count": null,
   "id": "008d96d1",
   "metadata": {},
   "outputs": [],
   "source": [
    "#comprimento da lista\n",
    "print(len(lst))"
   ]
  },
  {
   "cell_type": "code",
   "execution_count": null,
   "id": "bbcf1941",
   "metadata": {},
   "outputs": [],
   "source": [
    "#acessando elemento\n",
    "print(lst[0])\n",
    "#posiçõo 1 é uma lista\n",
    "print(lst3[1])\n",
    "#alterando posição\n",
    "lst[0] = 4\n",
    "print(lst)"
   ]
  },
  {
   "cell_type": "code",
   "execution_count": null,
   "id": "eaff1945",
   "metadata": {},
   "outputs": [],
   "source": [
    "#percorrendo lista\n",
    "for n in range(0, len(lst3)):\n",
    "    print(lst4[n]+1)"
   ]
  },
  {
   "cell_type": "code",
   "execution_count": null,
   "id": "f98978dc",
   "metadata": {},
   "outputs": [],
   "source": []
  },
  {
   "cell_type": "markdown",
   "id": "e4f1e0e5",
   "metadata": {},
   "source": [
    "## Dicionários"
   ]
  },
  {
   "cell_type": "code",
   "execution_count": null,
   "id": "5faac718",
   "metadata": {},
   "outputs": [],
   "source": [
    "#Estruturas chave/valor\n",
    "Notas = {'João': 6.0, 'Maria': 8.0, 'Pedro': 6.5}"
   ]
  },
  {
   "cell_type": "code",
   "execution_count": null,
   "id": "b069c504",
   "metadata": {},
   "outputs": [],
   "source": [
    "print(Notas['João'])"
   ]
  },
  {
   "cell_type": "code",
   "execution_count": null,
   "id": "cf30ac3f",
   "metadata": {},
   "outputs": [],
   "source": [
    "#Todas as chaves\n",
    "Notas.keys()"
   ]
  },
  {
   "cell_type": "code",
   "execution_count": null,
   "id": "cfd6757a",
   "metadata": {},
   "outputs": [],
   "source": [
    "#todos os valores\n",
    "Notas.values()"
   ]
  },
  {
   "cell_type": "code",
   "execution_count": null,
   "id": "1d935889",
   "metadata": {},
   "outputs": [],
   "source": [
    "#Testar logicamente a existência\n",
    "'João' in Notas"
   ]
  },
  {
   "cell_type": "code",
   "execution_count": null,
   "id": "7645bb00",
   "metadata": {},
   "outputs": [],
   "source": [
    "print('João' in Notas)\n",
    "print('Fernando' in Notas)"
   ]
  },
  {
   "cell_type": "code",
   "execution_count": null,
   "id": "561710f4",
   "metadata": {},
   "outputs": [],
   "source": [
    "#inclui um elemento\n",
    "Notas['Ana'] = 9\n",
    "print(Notas)"
   ]
  },
  {
   "cell_type": "code",
   "execution_count": null,
   "id": "34f2bf5d",
   "metadata": {},
   "outputs": [],
   "source": [
    "#apaga um elemento\n",
    "del Notas['João']\n",
    "print(Notas)"
   ]
  },
  {
   "cell_type": "code",
   "execution_count": null,
   "id": "d5691604",
   "metadata": {},
   "outputs": [],
   "source": [
    "# Convertendo listas em dicionários\n",
    "a = [1,2,3]\n",
    "b = ['gato','cachorro','peixe']\n",
    "\n",
    "dict( zip(a,b))"
   ]
  },
  {
   "cell_type": "code",
   "execution_count": null,
   "id": "e97a4645",
   "metadata": {},
   "outputs": [],
   "source": []
  },
  {
   "cell_type": "markdown",
   "id": "3b927c8a",
   "metadata": {},
   "source": [
    "### f-strings"
   ]
  },
  {
   "cell_type": "code",
   "execution_count": null,
   "id": "dc738865",
   "metadata": {},
   "outputs": [],
   "source": [
    "#imprimindo variáveis com texto"
   ]
  },
  {
   "cell_type": "code",
   "execution_count": null,
   "id": "753fe68d",
   "metadata": {},
   "outputs": [],
   "source": [
    "# Imprimindo varias vezes com for (input dentro da iteração)\n"
   ]
  },
  {
   "cell_type": "code",
   "execution_count": null,
   "id": "55fc74f2",
   "metadata": {},
   "outputs": [],
   "source": [
    "# Iterando sobre uma lista (for i in range(0,len(nome)):)\n"
   ]
  },
  {
   "cell_type": "markdown",
   "id": "f02a81aa",
   "metadata": {},
   "source": [
    "## Módulos e pacotes"
   ]
  },
  {
   "cell_type": "code",
   "execution_count": null,
   "id": "8ede1f6d",
   "metadata": {},
   "outputs": [],
   "source": [
    "import statistics \n",
    "z = [10,20,30,40]\n",
    "x = statistics.mean(z)\n",
    "y = statistics.median(z)\n",
    "print(x)\n",
    "print(y)"
   ]
  },
  {
   "cell_type": "code",
   "execution_count": null,
   "id": "eb810fdd",
   "metadata": {},
   "outputs": [],
   "source": [
    "import statistics  as est\n",
    "z = [10,20,30,40]\n",
    "x = est.mean(z)\n",
    "y = est.median(z)\n",
    "print(x)\n",
    "print(y)"
   ]
  },
  {
   "cell_type": "markdown",
   "id": "f93c3601",
   "metadata": {},
   "source": [
    "## Exercicios "
   ]
  },
  {
   "cell_type": "markdown",
   "id": "644d875c",
   "metadata": {},
   "source": [
    "1. Faça um programa que peça a idade do usuário e imprima se ele é maior ou menor de 18 anos. \n",
    "2. Faça um programa que peça um número e mostre se ele é positivo ou negativo.\n",
    "3. Faça um programa que peça dois números e mostre o maior deles. \n",
    "4. Faça um programa que dado um número digitado, mostre se ele é Par ou Ímpar. \n",
    "5. Escreva um programa que peça a nota de 3 provas de um aluno e verifique se ele passou o não de ano.\n",
    "    Obs.: O aluno irá passar de ano se sua média for maior que 6.\n",
    "6. Crie uma lista qualquer e faça um programa que imprima cada elemento da lista usando o for. \n",
    "7. Faça um programa que imprima todos os itens de uma lista usando while e compare com o exercício 1. \n",
    "8. Faça um programa que peça para o usuário digitar um número n e imprima uma lista com todos os números de 0 a n-1. \n",
    "    Exemplo: se o usuário digitar 5, o programa deve imprimir [0, 1, 2, 3, 4]\n",
    "9.  Faça um programa que olhe todos os itens de uma lista e diga quantos deles são pares. \n"
   ]
  },
  {
   "cell_type": "code",
   "execution_count": null,
   "id": "c2dd84cc",
   "metadata": {},
   "outputs": [],
   "source": []
  }
 ],
 "metadata": {
  "kernelspec": {
   "display_name": "Python 3 (ipykernel)",
   "language": "python",
   "name": "python3"
  },
  "language_info": {
   "codemirror_mode": {
    "name": "ipython",
    "version": 3
   },
   "file_extension": ".py",
   "mimetype": "text/x-python",
   "name": "python",
   "nbconvert_exporter": "python",
   "pygments_lexer": "ipython3",
   "version": "3.9.12"
  }
 },
 "nbformat": 4,
 "nbformat_minor": 5
}
