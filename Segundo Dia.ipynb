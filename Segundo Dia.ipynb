{
 "cells": [
  {
   "cell_type": "markdown",
   "id": "61908803",
   "metadata": {},
   "source": [
    "## Conteúdos\n",
    "\n",
    "* Comparações (>,<,==, >=, <=,!=)\n",
    "    - And, Or, not\n",
    "* String\n",
    "    - Tratamento de strings (upper, lower, capitalize)\n",
    "    - Slice de strings\n",
    "    - Função Replace\n",
    "    - Find\n",
    "    - split    \n",
    "* List methods\n",
    "    - diferença entre append e insert\n",
    "    - diferença entre remove e clear\n",
    "    \n",
    "* Numeros\n",
    "    - math documentation\n",
    "    - abs\n",
    "    - round\n",
    "    - ceil e floor"
   ]
  },
  {
   "cell_type": "markdown",
   "id": "984eb7c9",
   "metadata": {},
   "source": [
    "## Comparações"
   ]
  },
  {
   "cell_type": "code",
   "execution_count": null,
   "id": "96225e8c",
   "metadata": {},
   "outputs": [],
   "source": []
  },
  {
   "cell_type": "code",
   "execution_count": null,
   "id": "a49df717",
   "metadata": {},
   "outputs": [],
   "source": []
  },
  {
   "cell_type": "code",
   "execution_count": null,
   "id": "78ed8fae",
   "metadata": {},
   "outputs": [],
   "source": []
  },
  {
   "cell_type": "markdown",
   "id": "1184bee3",
   "metadata": {},
   "source": [
    "## Strings"
   ]
  },
  {
   "cell_type": "markdown",
   "id": "11124b51",
   "metadata": {},
   "source": [
    "#### Tratamento de Strings"
   ]
  },
  {
   "cell_type": "code",
   "execution_count": null,
   "id": "d9c4beff",
   "metadata": {},
   "outputs": [],
   "source": [
    "nome = ''"
   ]
  },
  {
   "cell_type": "code",
   "execution_count": null,
   "id": "0c69b886",
   "metadata": {},
   "outputs": [],
   "source": [
    "# Função len - tamanho da string\n",
    "len(nome)"
   ]
  },
  {
   "cell_type": "code",
   "execution_count": null,
   "id": "baf25df4",
   "metadata": {},
   "outputs": [],
   "source": [
    "# Função replace - substituição - string.replace(oldvalue, newvalue, count)\n",
    "nome.replace('', '')"
   ]
  },
  {
   "cell_type": "code",
   "execution_count": null,
   "id": "4047d42a",
   "metadata": {},
   "outputs": [],
   "source": [
    "# Função count - contagem de caracter\n",
    "\n",
    "nome.count('a')"
   ]
  },
  {
   "cell_type": "code",
   "execution_count": null,
   "id": "964185cc",
   "metadata": {},
   "outputs": [],
   "source": [
    "# Função split - separação - Sintaxe string.split(separator, maxsplit)\n",
    "nome.split()"
   ]
  },
  {
   "cell_type": "code",
   "execution_count": null,
   "id": "21a998b9",
   "metadata": {},
   "outputs": [],
   "source": [
    "# Função Join\n",
    "lista_nome = ['João','Silva', 'Santos']\n",
    "' '.join(lista_nome)"
   ]
  },
  {
   "cell_type": "code",
   "execution_count": null,
   "id": "cb519e83",
   "metadata": {},
   "outputs": [],
   "source": [
    "# Funções MAIÚSCULAS e minúsculas\n",
    "print(nome.lower())\n",
    "print(nome.upper())\n",
    "print(nome.capitalize())\n",
    "print(nome.title())\n",
    "print(nome.swapcase())"
   ]
  },
  {
   "cell_type": "code",
   "execution_count": null,
   "id": "a508e42e",
   "metadata": {},
   "outputs": [],
   "source": [
    "# Fatiamento de string\n"
   ]
  },
  {
   "cell_type": "code",
   "execution_count": null,
   "id": "9797c3a6",
   "metadata": {},
   "outputs": [],
   "source": [
    "# convertendo strings para listas \n",
    "lista_string = list(string)"
   ]
  },
  {
   "cell_type": "code",
   "execution_count": null,
   "id": "6ba5eed1",
   "metadata": {},
   "outputs": [],
   "source": [
    "# buscando um index a partir do caracter\n",
    "string.index('e')"
   ]
  },
  {
   "cell_type": "markdown",
   "id": "4152bd6a",
   "metadata": {},
   "source": [
    "[Documentação String Python](https://docs.python.org/pt-br/3/library/stdtypes.html#string-methods-1)"
   ]
  },
  {
   "cell_type": "code",
   "execution_count": null,
   "id": "bdf59d7d",
   "metadata": {},
   "outputs": [],
   "source": []
  },
  {
   "cell_type": "code",
   "execution_count": null,
   "id": "13952121",
   "metadata": {},
   "outputs": [],
   "source": []
  },
  {
   "cell_type": "markdown",
   "id": "03face81",
   "metadata": {},
   "source": [
    "## Exercicios"
   ]
  },
  {
   "cell_type": "markdown",
   "id": "c7b70b05",
   "metadata": {},
   "source": [
    "1. Faça um programa utilizando a linguagem Python que solicite ao \n",
    "usuário 2 variáveis (primeiro nome e último nome). Em seguida, crie outra variável \n",
    "juntando os o primeiro e o último nome. Finalize, imprimindo cada variável e a \n",
    "quantidade de letras de cada uma delas"
   ]
  },
  {
   "cell_type": "code",
   "execution_count": null,
   "id": "ddc5b714",
   "metadata": {},
   "outputs": [],
   "source": []
  }
 ],
 "metadata": {
  "kernelspec": {
   "display_name": "Python 3 (ipykernel)",
   "language": "python",
   "name": "python3"
  },
  "language_info": {
   "codemirror_mode": {
    "name": "ipython",
    "version": 3
   },
   "file_extension": ".py",
   "mimetype": "text/x-python",
   "name": "python",
   "nbconvert_exporter": "python",
   "pygments_lexer": "ipython3",
   "version": "3.9.12"
  }
 },
 "nbformat": 4,
 "nbformat_minor": 5
}
